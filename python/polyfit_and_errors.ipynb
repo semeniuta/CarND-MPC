{
 "cells": [
  {
   "cell_type": "code",
   "execution_count": 1,
   "metadata": {},
   "outputs": [],
   "source": [
    "%matplotlib inline\n",
    "%load_ext autoreload\n",
    "%autoreload 2"
   ]
  },
  {
   "cell_type": "code",
   "execution_count": 2,
   "metadata": {},
   "outputs": [],
   "source": [
    "import math\n",
    "import pandas as pd\n",
    "import numpy as np\n",
    "from matplotlib import pyplot as plt"
   ]
  },
  {
   "cell_type": "code",
   "execution_count": 3,
   "metadata": {},
   "outputs": [],
   "source": [
    "data = np.loadtxt('../data/waypoints.txt')"
   ]
  },
  {
   "cell_type": "code",
   "execution_count": 4,
   "metadata": {},
   "outputs": [],
   "source": [
    "def create_pose(xp, yp, theta):\n",
    "    \n",
    "    ct = np.cos(theta)\n",
    "    st = np.sin(theta)\n",
    "    \n",
    "    pose = np.array([[ct, -st, xp], [st, ct, yp], [0, 0, 1]])\n",
    "    \n",
    "    return pose\n",
    "\n",
    "\n",
    "def invert_pose(pose):\n",
    "    return np.linalg.inv(pose)\n",
    "\n",
    "\n",
    "def invert_pose_analytical(pose):\n",
    "    \n",
    "    ct = pose[0, 0]\n",
    "    st = pose[1, 0]\n",
    "    \n",
    "    xp = pose[0, 2]\n",
    "    yp = pose[1, 2]\n",
    "    \n",
    "    pose_inv = np.array([[ct, st, -(xp*ct + yp*st)], [-st, ct, xp*st - yp*ct], [0, 0, 1]])\n",
    "    \n",
    "    return pose_inv\n",
    "\n",
    "\n",
    "def transform_points(points, pose):\n",
    "    \n",
    "    res = []\n",
    "    \n",
    "    for i in range(len(points)):\n",
    "        \n",
    "        pt = points[i, :]\n",
    "        pt_h = np.array([pt[0], pt[1], 1])\n",
    "        pt_t = np.dot(pose, pt_h)\n",
    "        \n",
    "        transformed = np.array([pt_t[0] / pt_t[2], pt_t[1] / pt_t[2]])\n",
    "        \n",
    "        res.append(transformed)\n",
    "        \n",
    "    return np.array(res)\n",
    "    \n",
    "    \n",
    "def dist(x1, x2):\n",
    "    return np.linalg.norm(x1 - x2)\n",
    "\n",
    "\n",
    "def find_closest_index(points_c):\n",
    "    \n",
    "    origin = np.array([0, 0])\n",
    "    distances = np.array([dist(p, origin) for p in points_c])\n",
    "    \n",
    "    closest_idx = distances.argmin()\n",
    "    \n",
    "    return closest_idx, distances[closest_idx]\n",
    "\n",
    "\n",
    "def get_next_points(points_c, start_idx, n_points):\n",
    "    \n",
    "    n = len(points_c)\n",
    "    \n",
    "    xs = []\n",
    "    ys = []\n",
    "    count = 0\n",
    "    idx = start_idx\n",
    "    \n",
    "    while count < n_points:\n",
    "        \n",
    "        x = points_c[idx, 0]\n",
    "        y = points_c[idx, 1]\n",
    "        \n",
    "        xs.append(x)\n",
    "        ys.append(y)\n",
    "        \n",
    "        count += 1\n",
    "        idx += 1\n",
    "        if idx == n:\n",
    "            idx = 0\n",
    "            \n",
    "    return np.array(xs), np.array(ys)\n",
    "\n",
    "\n",
    "def polyfit_n(points_c, start_idx, dim, n_points):\n",
    "        \n",
    "    xs, ys = get_next_points(points_c, start_idx, n_points)\n",
    "    return np.polyfit(xs, ys, dim)  \n",
    "        \n",
    "\n",
    "def plot_poly(coefs, x0, x1):\n",
    "    \n",
    "    poly = np.poly1d(coefs)\n",
    "    \n",
    "    x = np.linspace(x0, x1)\n",
    "    y = poly(x)\n",
    "\n",
    "    plt.plot(x, y)\n",
    "    \n",
    "\n",
    "def closest_line(points_c, closest_idx, closest_dist):\n",
    "    \n",
    "    if closest_dist > 0:\n",
    "        \n",
    "        p1 = points_c[closest_idx - 1, :]\n",
    "        p2 = points_c[closest_idx, :]\n",
    "        \n",
    "    else:\n",
    "        \n",
    "        p1 = points_c[closest_idx, :]\n",
    "        p2 = points_c[closest_idx + 1, :]\n",
    "        \n",
    "    x1, y1 = p1\n",
    "    x2, y2 = p2\n",
    "        \n",
    "    slope = (y2 - y1) / (x2 - x1)\n",
    "    intercept = y2 - slope * x2\n",
    "    \n",
    "    return slope, intercept, p1, p2\n",
    "\n",
    "\n",
    "def measure_errors(slope, intercept):\n",
    "    \n",
    "    x0, y0 = 0, 0\n",
    "    \n",
    "    epsi = math.atan(slope)\n",
    "    cte = abs(intercept + slope * x0 - y0) / math.sqrt(1 + slope**2)\n",
    "    \n",
    "    return cte, epsi"
   ]
  },
  {
   "cell_type": "code",
   "execution_count": null,
   "metadata": {},
   "outputs": [],
   "source": []
  },
  {
   "cell_type": "code",
   "execution_count": 5,
   "metadata": {},
   "outputs": [],
   "source": [
    "car_x = -40.62\n",
    "car_y = 108.73\n",
    "car_psi = 3.733651\n",
    "\n",
    "car_pose_in_map = create_pose(car_x, car_y, car_psi) \n",
    "t_map_to_car = invert_pose(car_pose_in_map)\n",
    "points_c = transform_points(data, t_map_to_car)"
   ]
  },
  {
   "cell_type": "code",
   "execution_count": null,
   "metadata": {},
   "outputs": [],
   "source": []
  },
  {
   "cell_type": "code",
   "execution_count": 6,
   "metadata": {},
   "outputs": [
    {
     "name": "stdout",
     "output_type": "stream",
     "text": [
      "Closest index: 18\n",
      "Distance to the closest waypoint: 4.003168019568989\n"
     ]
    }
   ],
   "source": [
    "closest_idx, closest_dist = find_closest_index(points_c)\n",
    "print('Closest index:', closest_idx)\n",
    "print('Distance to the closest waypoint:', closest_dist)"
   ]
  },
  {
   "cell_type": "code",
   "execution_count": 7,
   "metadata": {},
   "outputs": [
    {
     "name": "stdout",
     "output_type": "stream",
     "text": [
      "slope:\t\t-0.012247857457099422\n",
      "intercept:\t0.7599170008006434\n"
     ]
    },
    {
     "data": {
      "image/png": "[encoded data removed]",
      "text/plain": [
       "<Figure size 432x288 with 1 Axes>"
      ]
     },
     "metadata": {
      "needs_background": "light"
     },
     "output_type": "display_data"
    }
   ],
   "source": [
    "slope, intercept, p1, p2 = closest_line(points_c, closest_idx, closest_dist)\n",
    "\n",
    "plt.plot([p1[0], p2[0]], [p1[1], p2[1]], 'o')\n",
    "plt.plot(0, 0, 'ro')\n",
    "\n",
    "plot_poly([slope, intercept], p1[0], p2[0])\n",
    "\n",
    "\n",
    "print('slope:\\t\\t{}\\nintercept:\\t{}'.format(slope, intercept))"
   ]
  },
  {
   "cell_type": "code",
   "execution_count": 8,
   "metadata": {},
   "outputs": [
    {
     "name": "stdout",
     "output_type": "stream",
     "text": [
      "Coefficients: [3.45967402e-06 5.64983981e-04 3.86075853e-02 4.39057095e-01]\n",
      "cte:\t0.7598600096331829\n",
      "epsi:\t-0.012247245078467013\n"
     ]
    },
    {
     "data": {
      "image/png": "[encoded data removed]",
      "text/plain": [
       "<Figure size 432x288 with 1 Axes>"
      ]
     },
     "metadata": {
      "needs_background": "light"
     },
     "output_type": "display_data"
    }
   ],
   "source": [
    "def plot_waypoints_and_poly(start_idx):\n",
    "    \n",
    "    N_POINTS = 10\n",
    "    n = len(points_c)\n",
    "    \n",
    "    plt.plot(points_c[:, 0], points_c[:, 1], 'o')\n",
    "\n",
    "    coefs = polyfit_n(points_c, start_idx, dim=3, n_points=N_POINTS)\n",
    "    print('Coefficients:', coefs)\n",
    "    \n",
    "    x0 = points_c[start_idx, 0]\n",
    "    \n",
    "    end_idx = start_idx+N_POINTS\n",
    "    if end_idx >= n:\n",
    "        end_idx -= n\n",
    "    \n",
    "    x1 = points_c[end_idx, 0]\n",
    "    \n",
    "    plot_poly(coefs, x0, x1)\n",
    "\n",
    "start_idx = closest_idx\n",
    "if closest_dist < 0:\n",
    "    start_idx += 1\n",
    "    \n",
    "plt.plot(0, 0, 'ro')\n",
    "\n",
    "plot_waypoints_and_poly(start_idx)\n",
    "\n",
    "cte, epsi = measure_errors(slope, intercept)\n",
    "print('cte:\\t{}\\nepsi:\\t{}'.format(cte, epsi))"
   ]
  },
  {
   "cell_type": "code",
   "execution_count": 9,
   "metadata": {},
   "outputs": [
    {
     "data": {
      "text/plain": [
       "(array([ 3.93940137, 25.82850578, 48.00129425, 67.72019922, 88.17418855]),\n",
       " array([ 0.71166777,  1.72439291,  3.86950111,  6.7442717 , 10.77765711]))"
      ]
     },
     "execution_count": 9,
     "metadata": {},
     "output_type": "execute_result"
    }
   ],
   "source": [
    "get_next_points(points_c, start_idx, 5)"
   ]
  },
  {
   "cell_type": "code",
   "execution_count": null,
   "metadata": {},
   "outputs": [],
   "source": []
  },
  {
   "cell_type": "code",
   "execution_count": 10,
   "metadata": {},
   "outputs": [
    {
     "name": "stdout",
     "output_type": "stream",
     "text": [
      "Index:\tDistance to origin\tx coordinate\n",
      "0:\t220.158\t\t\t-176.882\n",
      "1:\t213.096\t\t\t-181.403\n",
      "2:\t207.027\t\t\t-181.456\n",
      "3:\t194.953\t\t\t-177.284\n",
      "4:\t179.102\t\t\t-167.928\n",
      "5:\t162.639\t\t\t-155.700\n",
      "6:\t152.821\t\t\t-147.652\n",
      "7:\t143.866\t\t\t-139.881\n",
      "8:\t135.552\t\t\t-132.453\n",
      "9:\t121.108\t\t\t-119.125\n",
      "10:\t112.054\t\t\t-110.582\n",
      "11:\t95.851\t\t\t-95.005\n",
      "12:\t86.192\t\t\t-85.601\n",
      "13:\t64.659\t\t\t-64.425\n",
      "14:\t53.365\t\t\t-53.233\n",
      "15:\t35.705\t\t\t-35.656\n",
      "16:\t19.534\t\t\t-19.521\n",
      "17:\t9.643\t\t\t-9.603\n",
      "18:\t4.003\t\t\t3.939\n",
      "19:\t25.886\t\t\t25.829\n",
      "20:\t48.157\t\t\t48.001\n",
      "21:\t68.055\t\t\t67.720\n",
      "22:\t88.830\t\t\t88.174\n",
      "23:\t111.938\t\t\t110.739\n",
      "24:\t130.617\t\t\t128.699\n",
      "25:\t147.706\t\t\t144.968\n",
      "26:\t172.553\t\t\t168.090\n",
      "27:\t186.003\t\t\t180.164\n",
      "28:\t198.851\t\t\t191.395\n",
      "29:\t221.147\t\t\t209.723\n",
      "30:\t230.281\t\t\t216.703\n",
      "31:\t241.490\t\t\t224.336\n",
      "32:\t248.560\t\t\t228.240\n",
      "33:\t258.739\t\t\t232.588\n",
      "34:\t264.070\t\t\t232.900\n",
      "35:\t267.698\t\t\t232.191\n",
      "36:\t271.603\t\t\t227.518\n",
      "37:\t272.937\t\t\t221.036\n",
      "38:\t273.415\t\t\t216.123\n",
      "39:\t272.824\t\t\t203.836\n",
      "40:\t271.875\t\t\t193.931\n",
      "41:\t269.914\t\t\t177.068\n",
      "42:\t267.835\t\t\t150.929\n",
      "43:\t271.460\t\t\t70.466\n",
      "44:\t277.884\t\t\t45.008\n",
      "45:\t281.480\t\t\t29.419\n",
      "46:\t284.433\t\t\t12.827\n",
      "47:\t285.117\t\t\t5.070\n",
      "48:\t284.056\t\t\t-5.648\n",
      "49:\t281.864\t\t\t-12.153\n",
      "50:\t275.808\t\t\t-19.516\n",
      "51:\t269.311\t\t\t-24.175\n",
      "52:\t259.884\t\t\t-28.123\n",
      "53:\t249.332\t\t\t-29.909\n",
      "54:\t238.312\t\t\t-31.318\n",
      "55:\t205.038\t\t\t-31.181\n",
      "56:\t179.443\t\t\t-30.862\n",
      "57:\t170.905\t\t\t-32.083\n",
      "58:\t166.715\t\t\t-33.792\n",
      "59:\t161.124\t\t\t-36.214\n",
      "60:\t156.993\t\t\t-40.859\n",
      "61:\t155.159\t\t\t-47.732\n",
      "62:\t156.563\t\t\t-57.464\n",
      "63:\t159.482\t\t\t-66.258\n",
      "64:\t163.778\t\t\t-75.112\n",
      "65:\t174.152\t\t\t-92.628\n",
      "66:\t184.977\t\t\t-109.029\n",
      "67:\t203.238\t\t\t-135.974\n",
      "68:\t210.556\t\t\t-147.907\n",
      "69:\t218.483\t\t\t-163.401\n"
     ]
    }
   ],
   "source": [
    "print('Index:\\tDistance to origin\\tx coordinate')\n",
    "for i, p in enumerate(points_c):\n",
    "    print( '{}:\\t{:.3f}\\t\\t\\t{:.3f}'.format(i, dist(p, [0, 0]), p[0]) )"
   ]
  },
  {
   "cell_type": "code",
   "execution_count": null,
   "metadata": {},
   "outputs": [],
   "source": []
  }
 ],
 "metadata": {
  "kernelspec": {
   "display_name": "Python 3",
   "language": "python",
   "name": "python3"
  },
  "language_info": {
   "codemirror_mode": {
    "name": "ipython",
    "version": 3
   },
   "file_extension": ".py",
   "mimetype": "text/x-python",
   "name": "python",
   "nbconvert_exporter": "python",
   "pygments_lexer": "ipython3",
   "version": "3.6.6"
  }
 },
 "nbformat": 4,
 "nbformat_minor": 2
}
