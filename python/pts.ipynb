{
 "cells": [
  {
   "cell_type": "code",
   "execution_count": 1,
   "metadata": {},
   "outputs": [],
   "source": [
    "%matplotlib inline\n",
    "%load_ext autoreload\n",
    "%autoreload 2"
   ]
  },
  {
   "cell_type": "code",
   "execution_count": 2,
   "metadata": {},
   "outputs": [],
   "source": [
    "import math\n",
    "import pandas as pd\n",
    "import numpy as np\n",
    "from matplotlib import pyplot as plt"
   ]
  },
  {
   "cell_type": "code",
   "execution_count": 3,
   "metadata": {},
   "outputs": [],
   "source": [
    "data = np.loadtxt('../data/waypoints.txt')"
   ]
  },
  {
   "cell_type": "code",
   "execution_count": 4,
   "metadata": {},
   "outputs": [],
   "source": [
    "def create_pose(xp, yp, theta):\n",
    "    \n",
    "    ct = np.cos(theta)\n",
    "    st = np.sin(theta)\n",
    "    \n",
    "    pose = np.array([[ct, -st, xp], [st, ct, yp], [0, 0, 1]])\n",
    "    \n",
    "    return pose\n",
    "\n",
    "\n",
    "def invert_pose(pose):\n",
    "    return np.linalg.inv(pose)\n",
    "\n",
    "\n",
    "def invert_pose_analytical(pose):\n",
    "    \n",
    "    ct = pose[0, 0]\n",
    "    st = pose[1, 0]\n",
    "    \n",
    "    xp = pose[0, 2]\n",
    "    yp = pose[1, 2]\n",
    "    \n",
    "    pose_inv = np.array([[ct, st, -(xp*ct + yp*st)], [-st, ct, xp*st - yp*ct], [0, 0, 1]])\n",
    "    \n",
    "    return pose_inv\n",
    "\n",
    "\n",
    "def transform_points(points, pose):\n",
    "    \n",
    "    res = []\n",
    "    \n",
    "    for i in range(len(points)):\n",
    "        \n",
    "        pt = points[i, :]\n",
    "        pt_h = np.array([pt[0], pt[1], 1])\n",
    "        pt_t = np.dot(pose, pt_h)\n",
    "        \n",
    "        transformed = np.array([pt_t[0] / pt_t[2], pt_t[1] / pt_t[2]])\n",
    "        \n",
    "        res.append(transformed)\n",
    "        \n",
    "    return np.array(res)\n",
    "    \n",
    "    \n",
    "def dist(x1, x2):\n",
    "    return np.linalg.norm(x1 - x2)\n",
    "\n",
    "\n",
    "def find_closest_index(points_c):\n",
    "    \n",
    "    origin = np.array([0, 0])\n",
    "    distances = np.array([dist(p, origin) for p in points_c])\n",
    "    \n",
    "    closest_idx = distances.argmin()\n",
    "    \n",
    "    return closest_idx, distances[closest_idx]\n",
    "\n",
    "\n",
    "def get_next_points(points_c, start_idx, n_points):\n",
    "    \n",
    "    n = len(points_c)\n",
    "    \n",
    "    xs = []\n",
    "    ys = []\n",
    "    count = 0\n",
    "    idx = start_idx\n",
    "    \n",
    "    while count < n_points:\n",
    "        \n",
    "        x = points_c[idx, 0]\n",
    "        y = points_c[idx, 1]\n",
    "        \n",
    "        xs.append(x)\n",
    "        ys.append(y)\n",
    "        \n",
    "        count += 1\n",
    "        idx += 1\n",
    "        if idx == n:\n",
    "            idx = 0\n",
    "            \n",
    "    return np.array(xs), np.array(ys)\n",
    "\n",
    "\n",
    "def polyfit_n(points_c, start_idx, dim, n_points):\n",
    "        \n",
    "    xs, ys = get_next_points(points_c, start_idx, n_points)\n",
    "    return np.polyfit(xs, ys, dim)  \n",
    "        \n",
    "\n",
    "def plot_poly(coefs, x0, x1):\n",
    "    \n",
    "    poly = np.poly1d(coefs)\n",
    "    \n",
    "    x = np.linspace(x0, x1)\n",
    "    y = poly(x)\n",
    "\n",
    "    plt.plot(x, y)\n",
    "    \n",
    "    \n",
    "def estimate_line(p1, p2):\n",
    "    \n",
    "    x1, y1 = p1\n",
    "    x2, y2 = p2\n",
    "        \n",
    "    slope = (y2 - y1) / (x2 - x1)\n",
    "    intercept = y2 - slope * x2\n",
    "    \n",
    "    return slope, intercept\n",
    "    \n",
    "\n",
    "def closest_line(points_c, closest_idx, closest_dist):\n",
    "    \n",
    "    if closest_dist > 0:\n",
    "        \n",
    "        p1 = points_c[closest_idx - 1, :]\n",
    "        p2 = points_c[closest_idx, :]\n",
    "        \n",
    "    else:\n",
    "        \n",
    "        p1 = points_c[closest_idx, :]\n",
    "        p2 = points_c[closest_idx + 1, :]\n",
    "        \n",
    "    slope, intercept = estimate_line(p1, p2)\n",
    "    \n",
    "    return slope, intercept, p1, p2\n",
    "\n",
    "\n",
    "def measure_errors(slope, intercept):\n",
    "    \n",
    "    x0, y0 = 0, 0\n",
    "    \n",
    "    epsi = math.atan(slope)\n",
    "    cte = abs(intercept + slope * x0 - y0) / math.sqrt(1 + slope**2)\n",
    "    \n",
    "    return cte, epsi"
   ]
  },
  {
   "cell_type": "code",
   "execution_count": null,
   "metadata": {},
   "outputs": [],
   "source": []
  },
  {
   "cell_type": "code",
   "execution_count": 5,
   "metadata": {},
   "outputs": [],
   "source": [
    "car_x = -40.62\n",
    "car_y = 108.73\n",
    "car_psi = 3.733651\n",
    "\n",
    "car_pose_in_map = create_pose(car_x, car_y, car_psi) \n",
    "t_map_to_car = invert_pose(car_pose_in_map)\n",
    "points_c = transform_points(data, t_map_to_car)\n",
    "\n",
    "ptsx = np.array([-32.16173,-43.49173,-61.09,-78.29172,-93.05002,-107.7717])\n",
    "ptsy = np.array([113.361,105.941,92.88499,78.73102,65.34102,50.57938])\n",
    "\n",
    "pts = np.array((ptsx, ptsy)).T\n",
    "pts_c = transform_points(pts, t_map_to_car)"
   ]
  },
  {
   "cell_type": "code",
   "execution_count": null,
   "metadata": {},
   "outputs": [],
   "source": []
  },
  {
   "cell_type": "code",
   "execution_count": 6,
   "metadata": {},
   "outputs": [
    {
     "data": {
      "text/plain": [
       "[<matplotlib.lines.Line2D at 0x1198f2278>]"
      ]
     },
     "execution_count": 6,
     "metadata": {},
     "output_type": "execute_result"
    },
    {
     "data": {
      "image/png": "[encoded data removed]",
      "text/plain": [
       "<Figure size 432x288 with 1 Axes>"
      ]
     },
     "metadata": {
      "needs_background": "light"
     },
     "output_type": "display_data"
    }
   ],
   "source": [
    "plt.plot(data[:, 0], data[:, 1], 'o')\n",
    "\n",
    "plt.plot(ptsx, ptsy, 'o')\n",
    "plt.plot(car_x, car_y, 'ro')"
   ]
  },
  {
   "cell_type": "code",
   "execution_count": null,
   "metadata": {},
   "outputs": [],
   "source": []
  },
  {
   "cell_type": "code",
   "execution_count": 7,
   "metadata": {},
   "outputs": [],
   "source": [
    "def plot_pts_poly(pts):\n",
    "    \n",
    "    ptsx = pts[:, 0]\n",
    "    ptsy = pts[:, 1]\n",
    "\n",
    "    coefs = np.polyfit(ptsx, ptsy, 3)\n",
    "    plot_poly(coefs, ptsx.min(), ptsx.max())\n",
    "    print('Polynomial coefficients:', coefs)\n",
    "\n",
    "    plt.plot(ptsx, ptsy, 'o')\n",
    "    "
   ]
  },
  {
   "cell_type": "code",
   "execution_count": 8,
   "metadata": {},
   "outputs": [
    {
     "name": "stdout",
     "output_type": "stream",
     "text": [
      "Polynomial coefficients: [ 3.31873438e-06 -1.97547218e-03  5.00596467e-01  1.31647621e+02]\n"
     ]
    },
    {
     "data": {
      "image/png": "[encoded data removed]",
      "text/plain": [
       "<Figure size 432x288 with 1 Axes>"
      ]
     },
     "metadata": {
      "needs_background": "light"
     },
     "output_type": "display_data"
    }
   ],
   "source": [
    "plot_pts_poly(pts)\n",
    "_ = plt.plot(car_x, car_y, 'ro')"
   ]
  },
  {
   "cell_type": "code",
   "execution_count": 9,
   "metadata": {},
   "outputs": [
    {
     "name": "stdout",
     "output_type": "stream",
     "text": [
      "Polynomial coefficients: [-9.85152858e-07  1.35139032e-03  2.14533972e-03  7.44286899e-01]\n"
     ]
    },
    {
     "data": {
      "image/png": "[encoded data removed]",
      "text/plain": [
       "<Figure size 432x288 with 1 Axes>"
      ]
     },
     "metadata": {
      "needs_background": "light"
     },
     "output_type": "display_data"
    }
   ],
   "source": [
    "plot_pts_poly(pts_c)\n",
    "_ = plt.plot(0, 0, 'ro')"
   ]
  },
  {
   "cell_type": "code",
   "execution_count": null,
   "metadata": {},
   "outputs": [],
   "source": []
  },
  {
   "cell_type": "code",
   "execution_count": 10,
   "metadata": {},
   "outputs": [
    {
     "name": "stdout",
     "output_type": "stream",
     "text": [
      "Closest index: 1\n",
      "Distance to the closest waypoint: 4.003168019568989\n",
      "slope:\t\t-0.012247857457099422\n",
      "intercept:\t0.7599170008006434\n"
     ]
    },
    {
     "data": {
      "image/png": "[encoded data removed]",
      "text/plain": [
       "<Figure size 432x288 with 1 Axes>"
      ]
     },
     "metadata": {
      "needs_background": "light"
     },
     "output_type": "display_data"
    }
   ],
   "source": [
    "closest_idx, closest_dist = find_closest_index(pts_c)\n",
    "print('Closest index:', closest_idx)\n",
    "print('Distance to the closest waypoint:', closest_dist)\n",
    "\n",
    "slope, intercept, p1, p2 = closest_line(pts_c, closest_idx, closest_dist)\n",
    "\n",
    "plt.plot([p1[0], p2[0]], [p1[1], p2[1]], 'o')\n",
    "plt.plot(0, 0, 'ro')\n",
    "\n",
    "plot_poly([slope, intercept], p1[0], p2[0])\n",
    "\n",
    "print('slope:\\t\\t{}\\nintercept:\\t{}'.format(slope, intercept))"
   ]
  },
  {
   "cell_type": "code",
   "execution_count": 11,
   "metadata": {},
   "outputs": [
    {
     "name": "stdout",
     "output_type": "stream",
     "text": [
      "cte:\t0.7598600096331829\n",
      "epsi:\t-0.012247245078467013\n"
     ]
    }
   ],
   "source": [
    "cte, epsi = measure_errors(slope, intercept)\n",
    "print('cte:\\t{}\\nepsi:\\t{}'.format(cte, epsi))"
   ]
  },
  {
   "cell_type": "code",
   "execution_count": null,
   "metadata": {},
   "outputs": [],
   "source": []
  }
 ],
 "metadata": {
  "kernelspec": {
   "display_name": "Python 3",
   "language": "python",
   "name": "python3"
  },
  "language_info": {
   "codemirror_mode": {
    "name": "ipython",
    "version": 3
   },
   "file_extension": ".py",
   "mimetype": "text/x-python",
   "name": "python",
   "nbconvert_exporter": "python",
   "pygments_lexer": "ipython3",
   "version": "3.6.6"
  }
 },
 "nbformat": 4,
 "nbformat_minor": 2
}
