{
 "cells": [
  {
   "cell_type": "code",
   "execution_count": 1,
   "metadata": {},
   "outputs": [],
   "source": [
    "%matplotlib inline\n",
    "%load_ext autoreload\n",
    "%autoreload 2"
   ]
  },
  {
   "cell_type": "code",
   "execution_count": 2,
   "metadata": {},
   "outputs": [],
   "source": [
    "import pandas as pd\n",
    "import numpy as np\n",
    "from matplotlib import pyplot as plt"
   ]
  },
  {
   "cell_type": "code",
   "execution_count": 3,
   "metadata": {},
   "outputs": [],
   "source": [
    "data = np.loadtxt('../data/waypoints.txt')"
   ]
  },
  {
   "cell_type": "code",
   "execution_count": 4,
   "metadata": {},
   "outputs": [],
   "source": [
    "def create_pose(xp, yp, theta):\n",
    "    \n",
    "    ct = np.cos(theta)\n",
    "    st = np.sin(theta)\n",
    "    \n",
    "    pose = np.array([[ct, -st, xp], [st, ct, yp], [0, 0, 1]])\n",
    "    \n",
    "    return pose\n",
    "\n",
    "\n",
    "def invert_pose(pose):\n",
    "    return np.linalg.inv(pose)\n",
    "\n",
    "\n",
    "def invert_pose_analytical(pose):\n",
    "    \n",
    "    ct = pose[0, 0]\n",
    "    st = pose[1, 0]\n",
    "    \n",
    "    xp = pose[0, 2]\n",
    "    yp = pose[1, 2]\n",
    "    \n",
    "    pose_inv = np.array([[ct, st, -(xp*ct + yp*st)], [-st, ct, xp*st - yp*ct], [0, 0, 1]])\n",
    "    \n",
    "    return pose_inv\n",
    "\n",
    "\n",
    "def transform_points(points, pose):\n",
    "    \n",
    "    res = []\n",
    "    \n",
    "    for i in range(len(points)):\n",
    "        \n",
    "        pt = points[i, :]\n",
    "        pt_h = np.array([pt[0], pt[1], 1])\n",
    "        pt_t = np.dot(pose, pt_h)\n",
    "        \n",
    "        transformed = np.array([pt_t[0] / pt_t[2], pt_t[1] / pt_t[2]])\n",
    "        \n",
    "        res.append(transformed)\n",
    "        \n",
    "    return np.array(res)\n",
    "    "
   ]
  },
  {
   "cell_type": "code",
   "execution_count": null,
   "metadata": {},
   "outputs": [],
   "source": []
  },
  {
   "cell_type": "code",
   "execution_count": 5,
   "metadata": {},
   "outputs": [],
   "source": [
    "car_x = -40.62\n",
    "car_y = 108.73\n",
    "car_psi = 3.733651"
   ]
  },
  {
   "cell_type": "code",
   "execution_count": 6,
   "metadata": {},
   "outputs": [
    {
     "data": {
      "text/plain": [
       "[<matplotlib.lines.Line2D at 0x11b045cc0>]"
      ]
     },
     "execution_count": 6,
     "metadata": {},
     "output_type": "execute_result"
    },
    {
     "data": {
      "image/png": "[encoded data removed]",
      "text/plain": [
       "<Figure size 432x288 with 1 Axes>"
      ]
     },
     "metadata": {
      "needs_background": "light"
     },
     "output_type": "display_data"
    }
   ],
   "source": [
    "plt.plot(data[:, 0], data[:, 1], 'o')\n",
    "plt.plot(0, 0, 'ro')\n",
    "plt.plot(car_x, car_y, 'go')"
   ]
  },
  {
   "cell_type": "code",
   "execution_count": 7,
   "metadata": {},
   "outputs": [],
   "source": [
    "car_pose_in_map = create_pose(car_x, car_y, car_psi) "
   ]
  },
  {
   "cell_type": "code",
   "execution_count": 8,
   "metadata": {},
   "outputs": [],
   "source": [
    "def plot_t(data, car_pose_in_map, invert_pose_func):\n",
    "    \n",
    "    t_map_to_car = invert_pose_func(car_pose_in_map)\n",
    "    points_c = transform_points(data, t_map_to_car)\n",
    "\n",
    "    plt.plot(points_c[:, 0], points_c[:, 1], 'o')\n",
    "    plt.plot(0, 0, 'ro')"
   ]
  },
  {
   "cell_type": "code",
   "execution_count": 9,
   "metadata": {},
   "outputs": [
    {
     "data": {
      "image/png": "[encoded data removed]",
      "text/plain": [
       "<Figure size 432x288 with 1 Axes>"
      ]
     },
     "metadata": {
      "needs_background": "light"
     },
     "output_type": "display_data"
    }
   ],
   "source": [
    "plot_t(data, car_pose_in_map, invert_pose)"
   ]
  },
  {
   "cell_type": "code",
   "execution_count": 10,
   "metadata": {},
   "outputs": [
    {
     "data": {
      "image/png": "[encoded data removed]",
      "text/plain": [
       "<Figure size 432x288 with 1 Axes>"
      ]
     },
     "metadata": {
      "needs_background": "light"
     },
     "output_type": "display_data"
    }
   ],
   "source": [
    "plot_t(data, car_pose_in_map, invert_pose_analytical)"
   ]
  },
  {
   "cell_type": "code",
   "execution_count": null,
   "metadata": {},
   "outputs": [],
   "source": []
  }
 ],
 "metadata": {
  "kernelspec": {
   "display_name": "Python 3",
   "language": "python",
   "name": "python3"
  },
  "language_info": {
   "codemirror_mode": {
    "name": "ipython",
    "version": 3
   },
   "file_extension": ".py",
   "mimetype": "text/x-python",
   "name": "python",
   "nbconvert_exporter": "python",
   "pygments_lexer": "ipython3",
   "version": "3.6.6"
  }
 },
 "nbformat": 4,
 "nbformat_minor": 2
}
